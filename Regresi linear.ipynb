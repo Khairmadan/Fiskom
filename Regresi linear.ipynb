{
  "nbformat": 4,
  "nbformat_minor": 0,
  "metadata": {
    "colab": {
      "name": "Untitled4.ipynb",
      "provenance": [],
      "authorship_tag": "ABX9TyP4upUGAFJXqo5ikOkbtSQL",
      "include_colab_link": true
    },
    "kernelspec": {
      "name": "python3",
      "display_name": "Python 3"
    },
    "language_info": {
      "name": "python"
    }
  },
  "cells": [
    {
      "cell_type": "markdown",
      "metadata": {
        "id": "view-in-github",
        "colab_type": "text"
      },
      "source": [
        "<a href=\"https://colab.research.google.com/github/Khairmadan/Fiskom/blob/main/Regresi%20linear.ipynb\" target=\"_parent\"><img src=\"https://colab.research.google.com/assets/colab-badge.svg\" alt=\"Open In Colab\"/></a>"
      ]
    },
    {
      "cell_type": "code",
      "execution_count": null,
      "metadata": {
        "id": "7UgkqzEZZvGC"
      },
      "outputs": [],
      "source": [
        "import matplotlib.pyplot as plt\n",
        "import numpy as np"
      ]
    },
    {
      "cell_type": "code",
      "source": [
        "h = [35,40, 41,55,55,37,46,48]\n",
        "a = [4050,6075,5400,9500,7290,5700,6210,8440]"
      ],
      "metadata": {
        "id": "9Ej_p1iUZ9e1"
      },
      "execution_count": null,
      "outputs": []
    },
    {
      "cell_type": "code",
      "source": [
        "jx = 0\n",
        "jy = 0\n",
        "jxy = 0\n",
        "jx2 = 0\n",
        "n = len(h)"
      ],
      "metadata": {
        "id": "q5GvguCrafiY"
      },
      "execution_count": null,
      "outputs": []
    },
    {
      "cell_type": "code",
      "source": [
        "for i in range(n):\n",
        " jx = jx + h[i]\n",
        " jy = jy + a[i]\n",
        " jxy = jxy + h[i]*a[i]\n",
        " jx2 = jx2 + h[i]*h[i]"
      ],
      "metadata": {
        "id": "Yki9h5e3bFC1"
      },
      "execution_count": null,
      "outputs": []
    },
    {
      "cell_type": "code",
      "source": [
        "a1 = (n*jxy - jx*jy) / (n*jx2- jx*jx)"
      ],
      "metadata": {
        "id": "fEdiHCcwbylD"
      },
      "execution_count": null,
      "outputs": []
    },
    {
      "cell_type": "code",
      "source": [
        "xm = jx/n\n",
        "ym = jy/n\n",
        "a0 = ym - a1*xm\n",
        "print(a0) \n",
        "print(a1)"
      ],
      "metadata": {
        "colab": {
          "base_uri": "https://localhost:8080/"
        },
        "id": "-UkuxPOqcIF_",
        "outputId": "eee222b7-6fe4-4ada-995b-6f13ef9957e4"
      },
      "execution_count": null,
      "outputs": [
        {
          "output_type": "stream",
          "name": "stdout",
          "text": [
            "-2161.7441860465115\n",
            "195.96345514950167\n"
          ]
        }
      ]
    },
    {
      "cell_type": "code",
      "source": [
        "plt.scatter(h,a)"
      ],
      "metadata": {
        "colab": {
          "base_uri": "https://localhost:8080/",
          "height": 252
        },
        "id": "0YGLRI_dcgD7",
        "outputId": "545350a0-9009-4d42-c37e-640a2415cdf9"
      },
      "execution_count": null,
      "outputs": [
        {
          "output_type": "execute_result",
          "data": {
            "text/plain": [
              "<matplotlib.collections.PathCollection at 0x7f5a46eff1d0>"
            ]
          },
          "metadata": {},
          "execution_count": 27
        },
        {
          "output_type": "display_data",
          "data": {
            "text/plain": [
              "<Figure size 432x288 with 1 Axes>"
            ],
            "image/png": "[encoded data removed]"
          },
          "metadata": {
            "needs_background": "light"
          }
        }
      ]
    },
    {
      "cell_type": "code",
      "source": [
        "\n",
        "plt.scatter(h,a)\n",
        "x = np.linspace(30, 60,100) \n",
        "y = a0 + a1*x\n",
        "plt.plot(x, y)"
      ],
      "metadata": {
        "colab": {
          "base_uri": "https://localhost:8080/",
          "height": 252
        },
        "id": "iRPH026Qcn0z",
        "outputId": "30b67d7d-ca7d-47c8-d493-eabb9a9bbb01"
      },
      "execution_count": null,
      "outputs": [
        {
          "output_type": "execute_result",
          "data": {
            "text/plain": [
              "[<matplotlib.lines.Line2D at 0x7f5a46e22790>]"
            ]
          },
          "metadata": {},
          "execution_count": 28
        },
        {
          "output_type": "display_data",
          "data": {
            "text/plain": [
              "<Figure size 432x288 with 1 Axes>"
            ],
            "image/png": "[encoded data removed]"
          },
          "metadata": {
            "needs_background": "light"
          }
        }
      ]
    }
  ]
}